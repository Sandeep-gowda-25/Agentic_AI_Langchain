{
 "cells": [
  {
   "cell_type": "code",
   "execution_count": 1,
   "id": "11a6bdbf-f365-4edc-b5d2-98ce9b5c2def",
   "metadata": {},
   "outputs": [],
   "source": [
    "import pandas as pd\n",
    "import sqlite3"
   ]
  },
  {
   "cell_type": "markdown",
   "id": "4d13f4e7-bbce-4bd8-bc2f-a27f9303177a",
   "metadata": {},
   "source": [
    "this db has mutliple tables with details on products, suppliers, orders,... maintained by a shopping web app"
   ]
  },
  {
   "cell_type": "code",
   "execution_count": 2,
   "id": "75103e50-b435-4d9e-9aa1-a7ff2341ff34",
   "metadata": {},
   "outputs": [],
   "source": [
    "engine = sqlite3.connect(\"northwind.db\")\n",
    "cursor = engine.cursor() "
   ]
  },
  {
   "cell_type": "code",
   "execution_count": 3,
   "id": "c0be2782-ae3f-4004-9b37-f23c29021bdd",
   "metadata": {},
   "outputs": [
    {
     "data": {
      "text/plain": [
       "<sqlite3.Cursor at 0x285ac270c00>"
      ]
     },
     "execution_count": 3,
     "metadata": {},
     "output_type": "execute_result"
    }
   ],
   "source": [
    "cursor.execute(\"\"\"SELECT m.name AS TABLE_NAME, p.name AS COLUMN_NAME, p.type AS DATA_TYPE  \n",
    "        FROM sqlite_master AS m  \n",
    "        JOIN pragma_table_info(m.name) AS p  \n",
    "        WHERE m.type = 'table'\"\"\") "
   ]
  },
  {
   "cell_type": "markdown",
   "id": "077bd9b6-03c7-4ccb-84d5-cf8d24825fe8",
   "metadata": {},
   "source": [
    "by above execution we fetch schemas of all tables in the db"
   ]
  },
  {
   "cell_type": "code",
   "execution_count": 5,
   "id": "501c5c8d-ddf6-4107-b90b-528cc4d72a96",
   "metadata": {},
   "outputs": [],
   "source": [
    "table_schemas = cursor.fetchall()"
   ]
  },
  {
   "cell_type": "code",
   "execution_count": 6,
   "id": "89d8265c-d154-4f60-9fb4-98fe648c09e2",
   "metadata": {},
   "outputs": [
    {
     "data": {
      "text/plain": [
       "[(1, 'Chai', 1, 1, '10 boxes x 20 bags', 18, 39, 0, 10, '0'),\n",
       " (2, 'Chang', 1, 1, '24 - 12 oz bottles', 19, 17, 40, 25, '0')]"
      ]
     },
     "execution_count": 6,
     "metadata": {},
     "output_type": "execute_result"
    }
   ],
   "source": [
    "cursor.execute(\"select * from Products limit 2\") \n",
    "cursor.fetchall()"
   ]
  },
  {
   "cell_type": "code",
   "execution_count": 7,
   "id": "d924a629-a94a-413d-90ce-438a9cdeba5c",
   "metadata": {},
   "outputs": [
    {
     "data": {
      "text/plain": [
       "True"
      ]
     },
     "execution_count": 7,
     "metadata": {},
     "output_type": "execute_result"
    }
   ],
   "source": [
    "import os\n",
    "from dotenv import load_dotenv\n",
    "load_dotenv(dotenv_path = \".env\")"
   ]
  },
  {
   "cell_type": "code",
   "execution_count": 8,
   "id": "dd4597ac-82d9-4704-828c-f1134bcd5ff0",
   "metadata": {},
   "outputs": [],
   "source": [
    "from langchain_openai import AzureChatOpenAI\n",
    "GPT_DELPOYMENT_NAME = os.getenv(\"DEPLOYMENT_NAME\")\n",
    "os.environ[\"OPENAI_API_KEY\"] = os.getenv(\"OPENAI_APIKEY\")\n",
    "os.environ[\"OPENAI_API_VERSION\"] = \"2024-05-01-preview\"\n",
    "llm = AzureChatOpenAI(model=GPT_DELPOYMENT_NAME,azure_endpoint = os.getenv(\"OPENAI_ENDPOINT\"))"
   ]
  },
  {
   "cell_type": "markdown",
   "id": "ccf10ebb-f6ba-4e2a-a56c-5f5ab17f5c28",
   "metadata": {},
   "source": [
    "These are function tools to create sql query for user request and fetching data and to return final answer"
   ]
  },
  {
   "cell_type": "code",
   "execution_count": 10,
   "id": "b7480cf3-f25b-4629-b0bb-29f4ac1d7ed9",
   "metadata": {},
   "outputs": [],
   "source": [
    "def fetch_data(sql_query:str):\n",
    "    cursor.execute(sql_query)\n",
    "    return cursor.fetchall()\n",
    "    \n",
    "def get_sql_query(user_query:str)->str:\n",
    "    '''\n",
    "    This is a function which takes natural lannguage query and creates SQL query to retreive data using schema of tables\n",
    "\n",
    "    Parameters\n",
    "    user_query:str = Natural language query for which data needs to be filtered from db\n",
    "\n",
    "    Returns\n",
    "    SQL query created in string format\n",
    "    '''\n",
    "    prompt = f\"\"\"You're an agent designed to interact with SQL database with this schema:\n",
    "    SCHEMA : {table_schemas}\n",
    "    \n",
    "    For this given user query,\n",
    "    USER_QUERY: {user_query}\n",
    "    \n",
    "    Create synthatically correct SQL query which on executing should be able to answer the user query.\n",
    "    \n",
    "    Never query for all the columns from a specific table, only ask for a the columns relevant to the question.\n",
    "    You MUST double check your query before executing it. If you get an error while executing a query, rewrite the query and try again.\n",
    "    Don't make any DML statements like INSERT, UPDATE, DELETE, DROP etc. to the database.\n",
    "\n",
    "    SQL_QUERY:\n",
    "    \"\"\"\n",
    "\n",
    "    query = llm.invoke(prompt).content\n",
    "    return query\n",
    "\n",
    "def write_answer(user_input,sql_data):\n",
    "    prompt = f\"\"\"You're an agent designed to write answers. We got user query for which data is now extracted from SQL,\n",
    "    Consider the user query and sql data, you should be writing a proper final answer.\n",
    "    USER_QUERY : {user_input}\n",
    "    SQL_DATA : {str(sql_data)}\n",
    "    ANSWER :\n",
    "    \"\"\"\n",
    "    return llm.invoke(prompt).content\n",
    "\n",
    "\n",
    "    "
   ]
  },
  {
   "cell_type": "code",
   "execution_count": 11,
   "id": "b5f65170-c3ec-48ec-bc05-62c0d77f9ff5",
   "metadata": {},
   "outputs": [],
   "source": [
    "from langchain.tools import Tool\n",
    "fetch_data_tool = Tool.from_function(\n",
    "    name = \"fetch_data\",\n",
    "    func = fetch_data,\n",
    "    description = \"\"\"This is a tool, which should be called once SQL query is generated.\n",
    "    Parameters:\n",
    "    sql_query:str = Properly formated SQL query\n",
    "    \"\"\",\n",
    "    return_direct = False\n",
    ")\n",
    "get_sql_query_tool = Tool.from_function(\n",
    "    name = \"get_sql_query\",\n",
    "    func = get_sql_query,\n",
    "    description = \"\"\"This is a tool which takes in natural language query and creates SQL query to retreive data using schema of tables internally\n",
    "    Parameters:\n",
    "    user_query:str = Natural language query for which data needs to be filtered from db\n",
    "    Returns:\n",
    "    SQL query created in string format\"\"\",\n",
    "    return_direct = False\n",
    ")\n",
    "write_answer_tool = Tool.from_function(\n",
    "    name = \"write_answer\",\n",
    "    func = write_answer,\n",
    "    description = \"\"\"This is a tool which takes in user query and data from sql as inputs and writes final answer accordingly.\n",
    "    \n",
    "    Parameters:\n",
    "    user_input = User query for which answer is needed\n",
    "    sql_data = Data retreived from sql\n",
    "    \n",
    "    Returns:\n",
    "    Final answer for users query\n",
    "    \"\"\"\n",
    ")"
   ]
  },
  {
   "cell_type": "markdown",
   "id": "2244e799-ebd0-46c0-b5cd-6211f1ac66f9",
   "metadata": {},
   "source": [
    "## With langchain agent, here we're trying to past above functions as tools and then invoking it as agent"
   ]
  },
  {
   "cell_type": "code",
   "execution_count": 12,
   "id": "9f48351b-f1a0-4432-9a15-0e63d63d35f6",
   "metadata": {},
   "outputs": [
    {
     "name": "stderr",
     "output_type": "stream",
     "text": [
      "C:\\Users\\sandeep.nataraja\\AppData\\Local\\Temp\\ipykernel_28756\\2187511975.py:3: LangChainDeprecationWarning: Please see the migration guide at: https://python.langchain.com/docs/versions/migrating_memory/\n",
      "  memory = ConversationBufferMemory(memory_key = \"chat_history\")\n",
      "C:\\Users\\sandeep.nataraja\\AppData\\Local\\Temp\\ipykernel_28756\\2187511975.py:5: LangChainDeprecationWarning: The function `initialize_agent` was deprecated in LangChain 0.1.0 and will be removed in 1.0. Use :meth:`~Use new agent constructor methods like create_react_agent, create_json_agent, create_structured_chat_agent, etc.` instead.\n",
      "  agent = initialize_agent(llm=llm, tools = tools,memory = memory,agent=AgentType.CONVERSATIONAL_REACT_DESCRIPTION,verbose=True)\n"
     ]
    },
    {
     "name": "stdout",
     "output_type": "stream",
     "text": [
      "\n",
      "\n",
      "\u001b[1m> Entering new AgentExecutor chain...\u001b[0m\n",
      "\u001b[32;1m\u001b[1;3mThought: Do I need to use a tool? Yes\n",
      "Action: get_sql_query\n",
      "Action Input: Which product has the highest price and which category does it belong to?\u001b[0m\n",
      "Observation: \u001b[36;1m\u001b[1;3mSELECT Products.ProductName, Products.UnitPrice, Categories.CategoryName\n",
      "FROM Products\n",
      "JOIN Categories ON Products.CategoryID = Categories.CategoryID\n",
      "WHERE Products.UnitPrice = (SELECT MAX(UnitPrice) FROM Products);\u001b[0m\n",
      "Thought:\u001b[32;1m\u001b[1;3mDo I need to use a tool? No\n",
      "AI: The product with the highest price belongs to the category 'Seafood'. The product is \"Côte de Blaye\".\u001b[0m\n",
      "\n",
      "\u001b[1m> Finished chain.\u001b[0m\n"
     ]
    },
    {
     "data": {
      "text/plain": [
       "{'input': 'Which is the product having highest price and to which category that belongs to?',\n",
       " 'chat_history': '',\n",
       " 'output': 'The product with the highest price belongs to the category \\'Seafood\\'. The product is \"Côte de Blaye\".'}"
      ]
     },
     "execution_count": 12,
     "metadata": {},
     "output_type": "execute_result"
    }
   ],
   "source": [
    "from langchain.agents import initialize_agent,AgentType\n",
    "from langchain.memory import ConversationBufferMemory\n",
    "memory = ConversationBufferMemory(memory_key = \"chat_history\")\n",
    "tools = [get_sql_query_tool,fetch_data_tool]\n",
    "agent = initialize_agent(llm=llm, tools = tools,memory = memory,agent=AgentType.CONVERSATIONAL_REACT_DESCRIPTION,verbose=True)\n",
    "agent.invoke(\"Which is the product having highest price and to which category that belongs to?\")"
   ]
  },
  {
   "cell_type": "code",
   "execution_count": 13,
   "id": "7038eea4-edb4-4072-9391-48684d7caddd",
   "metadata": {},
   "outputs": [
    {
     "name": "stdout",
     "output_type": "stream",
     "text": [
      "\n",
      "\n",
      "\u001b[1m> Entering new AgentExecutor chain...\u001b[0m\n",
      "\u001b[32;1m\u001b[1;3mThought: Do I need to use a tool? Yes\n",
      "Action: get_sql_query\n",
      "Action Input: Who is the supplier of the product \"Côte de Blaye\"?\u001b[0m\n",
      "Observation: \u001b[36;1m\u001b[1;3mSELECT Suppliers.CompanyName \n",
      "FROM Suppliers \n",
      "JOIN Products ON Suppliers.SupplierID = Products.SupplierID \n",
      "WHERE Products.ProductName = \"Côte de Blaye\";\u001b[0m\n",
      "Thought:\u001b[32;1m\u001b[1;3mDo I need to use a tool? Yes\n",
      "Action: get_sql_query\n",
      "Action Input: Who is the supplier of the product \"Côte de Blaye\"?\u001b[0m\n",
      "Observation: \u001b[36;1m\u001b[1;3mSELECT Suppliers.CompanyName\n",
      "FROM Products\n",
      "JOIN Suppliers ON Products.SupplierID = Suppliers.SupplierID\n",
      "WHERE Products.ProductName = \"Côte de Blaye\";\u001b[0m\n",
      "Thought:\u001b[32;1m\u001b[1;3mDo I need to use a tool? No\n",
      "AI: The supplier of the product \"Côte de Blaye\" is Aux joyeux ecclésiastiques.\u001b[0m\n",
      "\n",
      "\u001b[1m> Finished chain.\u001b[0m\n"
     ]
    },
    {
     "data": {
      "text/plain": [
       "{'input': 'Who is supplier of that product?',\n",
       " 'chat_history': 'Human: Which is the product having highest price and to which category that belongs to?\\nAI: The product with the highest price belongs to the category \\'Seafood\\'. The product is \"Côte de Blaye\".',\n",
       " 'output': 'The supplier of the product \"Côte de Blaye\" is Aux joyeux ecclésiastiques.'}"
      ]
     },
     "execution_count": 13,
     "metadata": {},
     "output_type": "execute_result"
    }
   ],
   "source": [
    "agent.invoke(\"Who is supplier of that product?\")"
   ]
  },
  {
   "cell_type": "markdown",
   "id": "54a0c9ff-3df3-4b0e-9022-d8422152b2ff",
   "metadata": {},
   "source": [
    "#### Here with inbuilt memory context, agent is deciding on process of calling the tool based on flow"
   ]
  },
  {
   "cell_type": "markdown",
   "id": "d912b496-4c1f-43dc-a053-d1272b1fff5c",
   "metadata": {},
   "source": [
    "#### Langraph can be used of we want to better control on the flow,\n",
    "### Here i'm using Langgraph with same above tools as nodes here and controling the flow through edges"
   ]
  },
  {
   "cell_type": "code",
   "execution_count": 14,
   "id": "2b95d0f1-7cee-4603-840d-6bdeeb0bf887",
   "metadata": {},
   "outputs": [],
   "source": [
    "from langgraph.graph import graph,StateGraph,END,START\n",
    "from typing_extensions import TypedDict,Annotated"
   ]
  },
  {
   "cell_type": "code",
   "execution_count": 15,
   "id": "0cc6d370-833c-4e71-a114-5d47df5011a5",
   "metadata": {},
   "outputs": [],
   "source": [
    "class State(TypedDict):\n",
    "    user_query : str\n",
    "    sql_query : str\n",
    "    sql_data : list\n",
    "    output : str\n",
    "    conv_history : list"
   ]
  },
  {
   "cell_type": "code",
   "execution_count": 16,
   "id": "11384b97-2890-4851-9f51-e88589cfe095",
   "metadata": {},
   "outputs": [],
   "source": [
    "def fetch_data(state)->list:\n",
    "    cursor.execute(state['sql_query'])\n",
    "    return {\"sql_data\":cursor.fetchall()}\n",
    "    \n",
    "def get_sql_query(state)->str:\n",
    "    '''\n",
    "    This is a function which takes natural lannguage query and creates SQL query to retreive data using schema of tables\n",
    "\n",
    "    Parameters\n",
    "    user_query:str = Natural language query for which data needs to be filtered from db\n",
    "\n",
    "    Returns\n",
    "    SQL query created in string format\n",
    "    '''\n",
    "    state[\"conv_history\"].append({\"user_query\":state[\"user_query\"]})\n",
    "    prompt = f\"\"\"You're an agent designed to interact with SQL database with this schema:\n",
    "    SCHEMA : {table_schemas}\n",
    "    \n",
    "    For this given user query,\n",
    "    USER_QUERY: {state[\"user_query\"]}\n",
    "    \n",
    "    Create synthatically correct SQL query which on executing should be able to answer the user query.\n",
    "    \n",
    "    Never query for all the columns from a specific table, only ask for a the columns relevant to the question.\n",
    "    You MUST double check your query before executing it. If you get an error while executing a query, rewrite the query and try again.\n",
    "    Don't make any DML statements like INSERT, UPDATE, DELETE, DROP etc. to the database.\n",
    "    You should only create SQL QUERY and no additional instructions or details should be given.\n",
    "\n",
    "    SQL_QUERY:\n",
    "    \"\"\"\n",
    "\n",
    "    query = llm.invoke(prompt).content\n",
    "    return {\"sql_query\":query, \"conv_history\" : state[\"conv_history\"]}\n",
    "\n",
    "def write_answer(state):\n",
    "    prompt = f\"\"\"You're an agent designed to write answers. We got user query for which data is now extracted from SQL,\n",
    "    Consider the user query and sql data, you should be writing a proper final answer.\n",
    "    USER_QUERY : {state[\"user_query\"]}\n",
    "    SQL_DATA : {str(state[\"sql_data\"])}\n",
    "    ANSWER :\n",
    "    \"\"\"\n",
    "    output = llm.invoke(prompt).content\n",
    "    state[\"conv_history\"].append({\"answer\":output})\n",
    "    return {\"output\":output, \"conv_history\": state[\"conv_history\"]}\n",
    "\n",
    "def question_from_context(state):\n",
    "    if \"conv_history\" in state:\n",
    "        prompt = f\"\"\"You're an agent designed construct updated question based on the conversation context. \n",
    "        conversation context, consists of user queries and answer generated for those.\n",
    "        For given latest question, check if it's based on earlier context and update the question accordingly.\n",
    "        \n",
    "        If latest question is not depended on context, then make no changes and return same latest question.\n",
    "        Only when update is required, make changes and return updated question alone.\n",
    "        LATEST_USER_QUERY : {state[\"user_query\"]}\n",
    "        \n",
    "        CONVERSATION_CONTEXT : {str(state[\"conv_history\"])}\n",
    "        \n",
    "        \"\"\"\n",
    "        output = llm.invoke(prompt).content\n",
    "        return {\"user_query\" : output}\n",
    "    else:\n",
    "        return {\"conv_history\" : []}\n",
    "\n",
    "    "
   ]
  },
  {
   "cell_type": "code",
   "execution_count": 17,
   "id": "3d8c832b-f456-4aa1-afe6-f3aae2b28c7f",
   "metadata": {},
   "outputs": [],
   "source": [
    "workflow= StateGraph(State)\n",
    "workflow.add_node(\"get_sql_query\",get_sql_query)\n",
    "workflow.add_node(\"fetch_data\",fetch_data)\n",
    "workflow.add_node(\"write_answer\",write_answer)\n",
    "# workflow.add_node(\"llm_tool\",llm_tool)\n",
    "workflow.add_node(\"question_from_context\",question_from_context)\n",
    "\n",
    "workflow.set_entry_point(\"question_from_context\")\n",
    "workflow.add_edge(\"question_from_context\",\"get_sql_query\")\n",
    "workflow.add_edge(\"get_sql_query\",\"fetch_data\")\n",
    "workflow.add_edge(\"fetch_data\",\"write_answer\")\n",
    "workflow.set_finish_point(\"write_answer\")\n",
    "\n",
    "agent = workflow.compile()"
   ]
  },
  {
   "cell_type": "code",
   "execution_count": 18,
   "id": "4c2d58dd-5e3f-451d-b9e2-4cb905609254",
   "metadata": {},
   "outputs": [
    {
     "data": {
      "image/png": "[encoded data removed]",
      "text/plain": [
       "<IPython.core.display.Image object>"
      ]
     },
     "metadata": {},
     "output_type": "display_data"
    }
   ],
   "source": [
    "from IPython.display import display,Image\n",
    "display(Image(agent.get_graph().draw_mermaid_png()))"
   ]
  },
  {
   "cell_type": "code",
   "execution_count": 19,
   "id": "38cfea69-c0cc-455b-9971-f3fecfa37d61",
   "metadata": {},
   "outputs": [
    {
     "name": "stdout",
     "output_type": "stream",
     "text": [
      "The product with the highest price is \"Côte de Blaye\" and it belongs to the category of Beverages.\n"
     ]
    }
   ],
   "source": [
    "response = agent.invoke({\"user_query\":\"Which is the product having highest price and to which category that belongs to?\"})\n",
    "history = response[\"conv_history\"]\n",
    "print(response['output'])"
   ]
  },
  {
   "cell_type": "code",
   "execution_count": 21,
   "id": "4c72b2b3-5a85-44ad-a6f3-945a1695f89e",
   "metadata": {},
   "outputs": [
    {
     "name": "stdout",
     "output_type": "stream",
     "text": [
      "I'm sorry, but without any SQL data provided, I am unable to determine the supplier for that product. Please provide the necessary SQL data for me to provide you with the answer.\n"
     ]
    }
   ],
   "source": [
    "response = agent.invoke({\"user_query\":\"Who is the supplier for that product?\"})\n",
    "print(response['output'])"
   ]
  },
  {
   "cell_type": "markdown",
   "id": "22935566-7689-48e9-9c6b-e562af83daf1",
   "metadata": {},
   "source": [
    "##### since i'm maintaining the context in invocation thorugh state, state values are expiring, context needs to be maintained explicitly"
   ]
  },
  {
   "cell_type": "code",
   "execution_count": 22,
   "id": "afe72068-c3dc-4786-9dd7-13ef44d81391",
   "metadata": {},
   "outputs": [
    {
     "name": "stdout",
     "output_type": "stream",
     "text": [
      "The product with the highest price is \"Côte de Blaye\" and it belongs to the category of \"Beverages\".\n",
      "[{'user_query': 'Which is the product having highest price and to which category that belongs to?'}, {'answer': 'The product with the highest price is \"Côte de Blaye\" and it belongs to the category of \"Beverages\".'}]\n"
     ]
    }
   ],
   "source": [
    "response = agent.invoke({\"user_query\":\"Which is the product having highest price and to which category that belongs to?\"})\n",
    "history = response[\"conv_history\"]\n",
    "print(response['output'])\n",
    "print(history)"
   ]
  },
  {
   "cell_type": "markdown",
   "id": "498237e3-6997-4e17-8113-80df2ba2c585",
   "metadata": {},
   "source": [
    "##### here will collect the above conversation and pass it again to agent(adjusted in code), so it will be able to still give answer based on context"
   ]
  },
  {
   "cell_type": "code",
   "execution_count": 23,
   "id": "54a021be-5f19-4aa0-923c-9ecefb151f1a",
   "metadata": {},
   "outputs": [
    {
     "name": "stdout",
     "output_type": "stream",
     "text": [
      "The supplier for the product \"Côte de Blaye\" which belongs to the category of \"Beverages\" is \"Aux joyeux ecclésiastiques\".\n"
     ]
    }
   ],
   "source": [
    "response = agent.invoke({\"user_query\":\"Who is the supplier for that product?\",\"conv_history\":history})\n",
    "print(response['output'])"
   ]
  },
  {
   "cell_type": "code",
   "execution_count": null,
   "id": "4f0cf56e-d196-48c7-b05b-3875016edef4",
   "metadata": {},
   "outputs": [],
   "source": []
  },
  {
   "cell_type": "code",
   "execution_count": null,
   "id": "b4ee6ec7-2262-4758-b47d-56d53aa86301",
   "metadata": {},
   "outputs": [],
   "source": []
  }
 ],
 "metadata": {
  "kernelspec": {
   "display_name": "Python 3 (ipykernel)",
   "language": "python",
   "name": "python3"
  },
  "language_info": {
   "codemirror_mode": {
    "name": "ipython",
    "version": 3
   },
   "file_extension": ".py",
   "mimetype": "text/x-python",
   "name": "python",
   "nbconvert_exporter": "python",
   "pygments_lexer": "ipython3",
   "version": "3.9.12"
  }
 },
 "nbformat": 4,
 "nbformat_minor": 5
}
